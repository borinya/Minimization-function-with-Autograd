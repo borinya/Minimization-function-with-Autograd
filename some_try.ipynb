{
 "cells": [
  {
   "cell_type": "markdown",
   "metadata": {},
   "source": [
    "В нейронных сетях предпочтительно используется модель $y=f(u)$, где $u=\\sum_{i=1}^n w_i x_i+w_0 x_0$ является детерминистическим искусственным нейроном., так же существует модель стохастического нейрона. \n",
    "\n",
    "$$\n",
    "f(u)= \\begin{cases}1 & \\text {, с вероятностью } P(u) \\\\ 0 & \\text {, с вероятностью } 1-P(u)\\end{cases}\n",
    "$$\n",
    "\n",
    "Где распределение вероятности $P(u)$ обычно имеет вид сигмоида:\n",
    "\n",
    "$$\n",
    "\\sigma(u)=\\frac{A(T)}{1+\\exp (-u / T)},\n",
    "$$\n",
    "Главный недостаток этого метода заключается в том, что в роли передаточной функции используется пороговая функция. Её производная равна 0, что не позволяет использовать стохастические нейроны в классическом варианте обучения с применением методов градиентного спуска и обратного распространения ошибки.\n",
    "\n",
    "Авторы исследования предложили 2 подхода по оценке градиентов для стохастических нейронов:\n",
    "1) простая \"биологическая\" модель нейрона с несмещенной и зашумленной оценкой градиента, которую можно применять для обучения с подкреплением;\n",
    "2) прогнозирование с использованием смещения. (работает только с нелинейностями)\n"
   ]
  },
  {
   "cell_type": "markdown",
   "metadata": {},
   "source": [
    "# 1 подход"
   ]
  },
  {
   "cell_type": "markdown",
   "metadata": {},
   "source": [
    "Рассмотрим выход  $h_i$ стохастического нейрона, как применение детерменированной функции, которая зависит от входных данных $x_i$, внутренних параметров $\\theta_i$, как веса и смещение, а так же вводится источник шума $z_i$ \n",
    "$$\n",
    "h_i=f\\left(x_i, z_i, \\theta_i\\right)\n",
    "$$\n",
    "\n",
    "Пример подобной функции\n",
    "$$\n",
    "h_i=\\max \\left(0, z_i+b_i+\\sum_j W_{i j} x_{i j}\\right)\n",
    "$$"
   ]
  },
  {
   "cell_type": "markdown",
   "metadata": {},
   "source": [
    "В данной интерпретации нейрона обучение ведется до тех пор, пока существуют ненулевые градиенты относительно $x_i$ и $\\theta_i$ . Если накладывать дополнительное условие на бинарность выхода $h_i$, то окажется, что почти везде градиенты будут равны 0, поэтому дальнейшее обучение невозможно.\n",
    "\n",
    "Авторы исследования определяют 2 состояния нейрона : активный и неактивный \n",
    "\n",
    "\n",
    "\n",
    "- Активный нейрон\n",
    "$\n",
    "f\\left(x_i, 0, \\theta_i\\right)>0\n",
    "$\n",
    "Блок ненулевой и градиенты больше 0, но иногда отключается. В этом состоянии градиенты передаются для обучения, при этом возможен переход в неактивное состояние, если об этом сигнализирует основная часть модели.\n",
    "\n",
    "- Неактивный нейрон\n",
    "$\n",
    "f\\left(x_i, 0, \\theta_i\\right)=0\n",
    "$\n",
    "В подавляющем числе случае он равен 0, и занулены градиенты для дальнейшего обучения. Так же возможны ситуации, когда $z_i$ достаточно большое, чтобы перевести нейрон в активное состояние."
   ]
  },
  {
   "cell_type": "markdown",
   "metadata": {},
   "source": [
    "Таким образом при \"биологической\" модели нейрона у нас почти всегда есть ненулевые градиенты, которые позволят обучать всю сеть. С этим подходом связаны 2 основных недостатка: разная вероятность перехода состояний \"активный\" $\\rightarrow$ \"неактивный\" и \"неактивный\" $\\rightarrow$ \"активный\", а так же ситуация, когда часть нейронов будут неактивными и не будут использованы в дальнейшей работе модели."
   ]
  },
  {
   "cell_type": "markdown",
   "metadata": {},
   "source": [
    "# 2 подход"
   ]
  },
  {
   "cell_type": "markdown",
   "metadata": {},
   "source": [
    "Рассмотрим случай с пороговым решением, но чтобы с некоторой вероятностью оно было дифферинцируемо. Вероятность является непрерывной функцией, так же предпологаем паралленость для разных батчей в процессе обучения через градиентный спуск. "
   ]
  },
  {
   "cell_type": "markdown",
   "metadata": {},
   "source": [
    "Рассмотрим пример, где $x_i$ влияет на функцию потерь L\n",
    "$h_i=f\\left(x_i, z_i, \\theta_i\\right)=\\mathbf{1}_{z_i>\\sigma\\left(a_i\\right)}$\n",
    "\n",
    "$\\sigma(x)$ - сигмоид,   $z_i $ ~ $U[0,1]$"
   ]
  },
  {
   "cell_type": "markdown",
   "metadata": {},
   "source": [
    "И для случая детерминистического искусственного нейрона мы получаем  \n",
    "$$\n",
    "a_i=b_i+W_i \\cdot x_i\n",
    "$$\n",
    "\n",
    "$b_i$ и $W_{i}$ являются $ \\theta_{i} = (b_{i}, W_{i}) $ параметрами"
   ]
  },
  {
   "cell_type": "markdown",
   "metadata": {},
   "source": [
    "# Теорема.\n",
    "\n",
    "Пусть $h_i=f\\left(x_i, z_i, \\theta_i\\right)=\\mathbf{1}_{z_i>\\sigma\\left(a_i\\right)}$ тогда  определим $\\hat{g}_i=\\left(h_i-\\sigma\\left(a_i\\right)\\right) $ как несмещенную оценку $$g_i=\\frac{\\partial E_{x_i, c_{-i}}\\left[L \\mid c_i\\right]}{\\partial a_i},$$ где матожидание шума $z_i$ и всех источников шума $с_{-i}$ не влияет на веса $a_i$, но влияет на функцию потерь L.\n",
    "\n",
    "$\n",
    "E_{v_z}[\\cdot] \\text { означает матожидание величины } v_z\n",
    "$\n",
    "\n",
    "\n",
    "\n",
    "<!-- Let $h_i$ be defined as in Eq. 2, then $\\hat{g}_i=\\left(h_i-\\sigma\\left(a_i\\right)\\right) L$ is an unbiased estimator of $g_i=\\frac{\\partial E_{x_i, c_{-i}}\\left[L \\mid c_i\\right]}{\\partial a_i}$ where the expectation is over $z_i$ and over all the noise sources $c_{-i}$, besides $z_i$, that do not influence $a_i$ but may influence $L$, i.e., conditioned on the set of noise sources $c_i$ that influence $a_{i-}$ -->\n"
   ]
  },
  {
   "cell_type": "markdown",
   "metadata": {},
   "source": [
    "# Следствие.\n",
    "При тех же условиях, что и в предыдущей теореме, а так же для любой(возможно неспецифичной) константы $\\bar{L}_i$ вводится центральная оценка\n",
    "$\n",
    "\\left(h_i-\\sigma\\left(a_i\\right)\\right)\\left(L-\\bar{L}_i\\right),\n",
    "$\n",
    "несмещенная оценка $g_i=\\frac{\\partial E_{x_i, c_{-i}}\\left[\\left.L\\right|_{\\left.c_i\\right]}\\right.}{\\partial a_i}$. Более того, среди всех возможных значений $\\bar{L}_i$, минимальная дисперсия равна\n",
    "$$\n",
    "\\bar{L}_i=\\frac{E\\left[\\left(h_i-\\sigma\\left(a_i\\right)\\right)^2 L\\right]}{E\\left[\\left(h_i-\\sigma\\left(a_i\\right)\\right)^2\\right]},\n",
    "$$\n",
    "который является средневзвешенным значеием потерь L, веса которого специфичны для каждого экземпляра i."
   ]
  },
  {
   "cell_type": "markdown",
   "metadata": {},
   "source": [
    " Таким образом исследователями предложено 2 способа по оценке градиентов стохастических нейронов для дальнейшего обучения модели"
   ]
  },
  {
   "cell_type": "code",
   "execution_count": 1,
   "metadata": {},
   "outputs": [],
   "source": [
    "import torch\n",
    "import numpy as np\n",
    "from matplotlib import pyplot as plt\n"
   ]
  },
  {
   "cell_type": "markdown",
   "metadata": {},
   "source": [
    "# Условия задачи\n",
    "$$\n",
    "s^2 \\sum_i^n\\left(\\frac{x_i}{s}-\\operatorname{sign}\\left(\\frac{x_i}{s}\\right)\\right)^2 \\rightarrow \\min _s\n",
    "$$\n"
   ]
  },
  {
   "cell_type": "markdown",
   "metadata": {},
   "source": [
    "$$\n",
    "f(x,s)  = s^2 \\sum_i^n\\left(\\frac{x_i}{s}-\\operatorname{sign}\\left(\\frac{x_i}{s}\\right)\\right)^2 = \\sum_i^n\\left(x_{i}-s * \\operatorname{sign}\\left(\\frac{x_i}{s}\\right)\\right)^2  = \\sum_i^n\\left(x_{i}^2-2 x_{i} s * \\operatorname{sign}\\left(\\frac{x_i}{s}\\right) + (s * \\operatorname{sign}\\left(\\frac{x_i}{s})\\right)^2\\right) = \\sum_i^n\\left(x_{i}-s * \\operatorname{sign}\\left(\\frac{x_i}{s}\\right)\\right)^2  =$$\n",
    "\n",
    "$$= \\sum_i^n\\left(x_{i}^2-2 x_{i} s * \\operatorname{sign}\\left(\\frac{x_i}{s}\\right) + s^2\\right)\n",
    "$$\n"
   ]
  },
  {
   "cell_type": "markdown",
   "metadata": {},
   "source": [
    "В силу определения sign(х) и без рассмотрения точки s = 0\n",
    "$$ (\\operatorname{sign}\\left(\\frac{x_i}{s}\\right)  )^2= 1$$ \n"
   ]
  },
  {
   "cell_type": "markdown",
   "metadata": {},
   "source": [
    "Пусть S>0, при S=0 у нас деление на 0 и функция не определена в этой точке.\n",
    "Для получения точного аналитического решения ищем точку экстремума.\n",
    "$$\\frac{\\partial f}{\\partial s} = 0$$"
   ]
  },
  {
   "cell_type": "markdown",
   "metadata": {},
   "source": [
    "$$\\frac{\\partial f}{\\partial s} = \\sum_i^n\\left(-2 x_{i}  \\operatorname{sign}\\left({x_i}\\right) + 2s\\right) = \\sum_i^n\\left(-2|x_{i}| + 2s\\right)$$"
   ]
  },
  {
   "cell_type": "markdown",
   "metadata": {},
   "source": [
    " $$\\sum_i^n\\left(-2|x_{i}| + 2s\\right) = \\sum_i^n\\left(-2|x_{i}|\\right) +2sn = 0$$"
   ]
  },
  {
   "cell_type": "markdown",
   "metadata": {},
   "source": [
    "$$s = \\frac{\\sum_i^n\\left(|x_{i}|\\right)}{n} $$"
   ]
  },
  {
   "cell_type": "markdown",
   "metadata": {},
   "source": [
    "Аналогично для случая S<0 получается.\n",
    "$$s = -\\frac{\\sum_i^n\\left(|x_{i}|\\right)}{n} $$"
   ]
  },
  {
   "cell_type": "code",
   "execution_count": 2,
   "metadata": {},
   "outputs": [
    {
     "name": "stdout",
     "output_type": "stream",
     "text": [
      "Минимальное значение функции: 31.718184863562723\n",
      "Значения S, при котором достигается минимум: 0.7772297381222891 и -0.7772297381222891\n"
     ]
    }
   ],
   "source": [
    "mu, sigma, n, s = 0, 1, 100, 1 # параметры нормального распределения, количество сэмплированных точек и начальное приближение S, чтобы избежать деления на 0\n",
    "sample = np.random.normal(mu, sigma, n)\n",
    "s_min1 = np.sum(abs(sample))/n\n",
    "s_min2 = -np.sum(abs(sample))/n\n",
    "\n",
    "def f(x, s): # исходная функция\n",
    "    return np.sum((x- s * np.sign(x/s))**2)\n",
    "\n",
    "if f(sample,s_min1) == f(sample,s_min2):\n",
    "    print('Минимальное значение функции: ' + str(f(sample,s_min1) ))\n",
    "    print('Значения S, при котором достигается минимум: ' + str(s_min1) + ' и ' +  str(s_min2))\n",
    "else:\n",
    "    print('Минимальное значение функции: ' + str(np.min([f(sample,s_min1),f(sample,s_min2) ])))\n",
    "    print('Значение S, при котором достигается минимум: ' + str([s_min1,s_min2][np.argmin([f(sample,s_min1),f(sample,s_min2)] )]))\n"
   ]
  },
  {
   "attachments": {},
   "cell_type": "markdown",
   "metadata": {},
   "source": [
    "# Основная идея градиентного спуска\n",
    "\n",
    "$$s_{i+1} = s_{i} - \\frac{\\partial f}{\\partial s}(s_{i}) * LearningRate$$"
   ]
  },
  {
   "cell_type": "markdown",
   "metadata": {},
   "source": [
    "$$f(x,s) = \\sum_i^n\\left(x_{i}^2-2 x_{i} s * \\operatorname{sign}\\left(\\frac{x_i}{s}\\right) + (s * \\operatorname{sign}\\left(\\frac{x_i}{s})\\right)^2\\right)$$\n"
   ]
  },
  {
   "attachments": {},
   "cell_type": "markdown",
   "metadata": {},
   "source": [
    "Так же учтено и не вычислялась производная\n",
    "$$ (\\operatorname{sign}\\left(\\frac{x_i}{s}\\right)  )^2= 1 $$ \n"
   ]
  },
  {
   "cell_type": "markdown",
   "metadata": {},
   "source": [
    "# В условиях просили переопределить нахождение прозводной $sign(\\frac{x_i} {s})$\n",
    "## Линейный случай\n",
    "$$\n",
    "  \\frac{\\partial [  sign \\left(\\frac{x_i} {s} \\right)] }{\\partial s} = \\frac{\\partial [\\frac{x_i} {s}]}{\\partial s} = \\frac{-x_i} {s^2}\n",
    "$$"
   ]
  },
  {
   "cell_type": "code",
   "execution_count": 44,
   "metadata": {},
   "outputs": [],
   "source": [
    "class SignLinearFunction(torch.autograd.Function):\n",
    "    @staticmethod\n",
    "    def forward(ctx, input, weight):\n",
    "        ctx.save_for_backward(input, weight)\n",
    "        output = torch.sign(input/weight)\n",
    "        return output\n",
    "\n",
    "    @staticmethod\n",
    "    def backward(ctx, grad_output):\n",
    "        input, weight = ctx.saved_tensors\n",
    "        grad_input = 1/weight\n",
    "        grad_weight = -input/(weight**2)\n",
    "        return  grad_weight  , grad_input\n",
    "\n",
    "linearSign = SignLinearFunction.apply\n"
   ]
  },
  {
   "cell_type": "code",
   "execution_count": 46,
   "metadata": {},
   "outputs": [
    {
     "name": "stdout",
     "output_type": "stream",
     "text": [
      "Минимальное значение функции 39.80118673798421\n",
      "Минимальное значение функции достигается при s=0.87093585729599\n"
     ]
    },
    {
     "data": {
      "image/png": "[encoded data removed]",
      "text/plain": [
       "<Figure size 432x288 with 1 Axes>"
      ]
     },
     "metadata": {
      "needs_background": "light"
     },
     "output_type": "display_data"
    }
   ],
   "source": [
    "learning_rate = 1e-6\n",
    "n_epoch = 10000\n",
    "loss_history, s_history = [], []\n",
    "loss_min,s_best = None, None\n",
    "x = torch.from_numpy(sample)\n",
    "s = torch.tensor([1.], requires_grad= True)\n",
    "\n",
    "for epoch in range(n_epoch):\n",
    "    loss = ((x- s * linearSign(x, s)).pow(2)).sum()\n",
    "    loss.backward()\n",
    "    s.data -= learning_rate * s.grad.data\n",
    "    s.grad.data = torch.zeros_like(s.grad.data)\n",
    "    loss_history.append(loss.data)\n",
    "    s_history.append(s)\n",
    "\n",
    "    if loss_min == None or loss<loss_min:\n",
    "        loss_min = loss\n",
    "        s_best = s\n",
    "\n",
    "\n",
    "\n",
    "plt.scatter(range(n_epoch),loss_history)\n",
    "plt.title('Значения функции в зависимости от эпохи')\n",
    "print('Минимальное значение функции '+str(loss_history[-1].data.item()))\n",
    "print('Минимальное значение функции достигается при s='+str(s_history[-1].data.item()))\n",
    "\n",
    "\n"
   ]
  },
  {
   "attachments": {},
   "cell_type": "markdown",
   "metadata": {},
   "source": [
    "## Случай гиперболического тангенса\n",
    "$$\n",
    "  \\frac{\\partial [  sign \\left(\\frac{x_i} {s} \\right)]}{\\partial s} = \\frac{\\partial tanh[\\frac{x_i} {s}]}{\\partial s} =( 1 - tanh^{2}[\\frac{x_i} {s}])* (\\frac{-x_i} {s^2}) = \\frac{\\frac{-x_i} {s^2}}{cosh^2(\\frac{x_i} {s})}\n",
    "$$"
   ]
  },
  {
   "cell_type": "code",
   "execution_count": 33,
   "metadata": {},
   "outputs": [],
   "source": [
    "class SignTanhFunction(torch.autograd.Function):\n",
    "    @staticmethod\n",
    "    def forward(ctx, input, weight):\n",
    "        ctx.save_for_backward(input, weight)\n",
    "        output = torch.sign(input/weight)\n",
    "        return output\n",
    "\n",
    "    @staticmethod\n",
    "    def backward(ctx, grad_output):\n",
    "\n",
    "        input, weight = ctx.saved_tensors\n",
    "        grad_input = 1./weight\n",
    "        grad_weight = -input/((weight*torch.cosh(input/weight))**2)\n",
    "\n",
    "        return  grad_weight  , grad_input\n",
    "\n",
    "TanhSign = SignTanhFunction.apply\n"
   ]
  },
  {
   "cell_type": "code",
   "execution_count": 42,
   "metadata": {},
   "outputs": [
    {
     "name": "stdout",
     "output_type": "stream",
     "text": [
      "Минимальное значение функции 39.80118673798421\n",
      "Минимальное значение функции достигается при s=0.87093585729599\n"
     ]
    },
    {
     "data": {
      "image/png": "[encoded data removed]",
      "text/plain": [
       "<Figure size 432x288 with 1 Axes>"
      ]
     },
     "metadata": {
      "needs_background": "light"
     },
     "output_type": "display_data"
    }
   ],
   "source": [
    "learning_rate = 1e-6\n",
    "n_epoch = 10000\n",
    "loss_history, s_history = [], []\n",
    "loss_min,s_best = None, None\n",
    "x = torch.from_numpy(sample)\n",
    "s = torch.tensor([1.], requires_grad= True)\n",
    "\n",
    "for epoch in range(n_epoch):\n",
    "    loss = ((x- s * TanhSign(x, s)).pow(2)).sum()\n",
    "    loss.backward()\n",
    "    s.data -= learning_rate * s.grad.data\n",
    "    s.grad.data = torch.zeros_like(s.grad.data)\n",
    "    loss_history.append(loss.data)\n",
    "    s_history.append(s)\n",
    "\n",
    "\n",
    "plt.scatter(range(n_epoch),loss_history)\n",
    "plt.title('Значения функции в зависимости от эпохи')\n",
    "print('Минимальное значение функции '+str(loss_history[-1].data.item()))\n",
    "print('Минимальное значение функции достигается при s='+str(s_history[-1].data.item()))"
   ]
  },
  {
   "cell_type": "markdown",
   "metadata": {},
   "source": [
    "# Ответы для случая градиентного спуска совпадают и достаточно близки по значению к точному аналитическому решению\n",
    "## Очевидно, что переопределив вычисление производной мы сами сдвинули экстремум, поэтому идеального попадания в аналитическое решение не добиться"
   ]
  },
  {
   "cell_type": "code",
   "execution_count": 7,
   "metadata": {},
   "outputs": [
    {
     "data": {
      "text/plain": [
       "tensor(2.0331, dtype=torch.float64, grad_fn=<MeanBackward0>)"
      ]
     },
     "execution_count": 7,
     "metadata": {},
     "output_type": "execute_result"
    }
   ],
   "source": [
    "torch.cosh(x/s_best).mean()"
   ]
  },
  {
   "cell_type": "markdown",
   "metadata": {},
   "source": [
    "# Так же знак найденного S зависит от начального значения S для случаев градиентного спуска"
   ]
  },
  {
   "cell_type": "markdown",
   "metadata": {},
   "source": [
    "# величина порядка 2, т.е. вносит изменения на на масштабе 1000 эпох этого почти не заметно"
   ]
  },
  {
   "cell_type": "code",
   "execution_count": 3,
   "metadata": {},
   "outputs": [],
   "source": [
    "mu, sigma, n, s = 0, 1, 100, 1 # параметры нормального распределения, количество сэмплированных точек и начальное приближение S, чтобы избежать деления на 0\n",
    "s_history_analytic = []\n",
    "for i in range(1000):\n",
    "    sample = np.random.normal(mu, sigma, n)\n",
    "    s_min1 = np.sum(abs(sample))/n\n",
    "    s_min2 = -np.sum(abs(sample))/n\n",
    "    s_history_analytic.append(s_min1)\n"
   ]
  },
  {
   "cell_type": "code",
   "execution_count": 4,
   "metadata": {},
   "outputs": [
    {
     "data": {
      "text/plain": [
       "(0.7988852147611186, 0.7974935239939744)"
      ]
     },
     "execution_count": 4,
     "metadata": {},
     "output_type": "execute_result"
    }
   ],
   "source": [
    "np.mean(s_history_analytic), np.median(s_history_analytic)"
   ]
  },
  {
   "cell_type": "code",
   "execution_count": 5,
   "metadata": {},
   "outputs": [
    {
     "data": {
      "text/plain": [
       "(array([ 1.,  0.,  1.,  1.,  0.,  3.,  4.,  1.,  1.,  4.,  7.,  9., 16.,\n",
       "        13., 13., 18., 22., 24., 27., 30., 42., 54., 52., 60., 47., 55.,\n",
       "        55., 55., 46., 54., 39., 34., 43., 23., 27., 29., 20., 21., 12.,\n",
       "        11.,  5.,  5.,  5.,  3.,  2.,  0.,  4.,  0.,  0.,  2.]),\n",
       " array([0.59195807, 0.59992697, 0.60789586, 0.61586476, 0.62383366,\n",
       "        0.63180255, 0.63977145, 0.64774035, 0.65570925, 0.66367814,\n",
       "        0.67164704, 0.67961594, 0.68758483, 0.69555373, 0.70352263,\n",
       "        0.71149152, 0.71946042, 0.72742932, 0.73539822, 0.74336711,\n",
       "        0.75133601, 0.75930491, 0.7672738 , 0.7752427 , 0.7832116 ,\n",
       "        0.79118049, 0.79914939, 0.80711829, 0.81508718, 0.82305608,\n",
       "        0.83102498, 0.83899388, 0.84696277, 0.85493167, 0.86290057,\n",
       "        0.87086946, 0.87883836, 0.88680726, 0.89477615, 0.90274505,\n",
       "        0.91071395, 0.91868285, 0.92665174, 0.93462064, 0.94258954,\n",
       "        0.95055843, 0.95852733, 0.96649623, 0.97446512, 0.98243402,\n",
       "        0.99040292]),\n",
       " <BarContainer object of 50 artists>)"
      ]
     },
     "execution_count": 5,
     "metadata": {},
     "output_type": "execute_result"
    },
    {
     "data": {
      "image/png": "[encoded data removed]",
      "text/plain": [
       "<Figure size 432x288 with 1 Axes>"
      ]
     },
     "metadata": {
      "needs_background": "light"
     },
     "output_type": "display_data"
    }
   ],
   "source": [
    "plt.hist(s_history_analytic, bins=50)"
   ]
  },
  {
   "cell_type": "code",
   "execution_count": 47,
   "metadata": {},
   "outputs": [
    {
     "name": "stdout",
     "output_type": "stream",
     "text": [
      "tensor(1.3736, grad_fn=<MseLossBackward0>)\n",
      "tensor(1.3369, grad_fn=<MseLossBackward0>)\n",
      "tensor(1.2683, grad_fn=<MseLossBackward0>)\n",
      "tensor(1.1763, grad_fn=<MseLossBackward0>)\n",
      "tensor(1.0724, grad_fn=<MseLossBackward0>)\n",
      "tensor(0.9685, grad_fn=<MseLossBackward0>)\n",
      "tensor(0.8758, grad_fn=<MseLossBackward0>)\n",
      "tensor(0.8027, grad_fn=<MseLossBackward0>)\n",
      "tensor(0.7539, grad_fn=<MseLossBackward0>)\n",
      "tensor(0.7302, grad_fn=<MseLossBackward0>)\n",
      "tensor(0.7286, grad_fn=<MseLossBackward0>)\n",
      "tensor(0.7433, grad_fn=<MseLossBackward0>)\n",
      "tensor(0.7671, grad_fn=<MseLossBackward0>)\n",
      "tensor(0.7927, grad_fn=<MseLossBackward0>)\n",
      "tensor(0.8143, grad_fn=<MseLossBackward0>)\n",
      "tensor(0.8285, grad_fn=<MseLossBackward0>)\n",
      "tensor(0.8343, grad_fn=<MseLossBackward0>)\n",
      "tensor(0.8333, grad_fn=<MseLossBackward0>)\n",
      "tensor(0.8290, grad_fn=<MseLossBackward0>)\n",
      "tensor(0.8257, grad_fn=<MseLossBackward0>)\n",
      "tensor(0.8273, grad_fn=<MseLossBackward0>)\n",
      "tensor(0.8366, grad_fn=<MseLossBackward0>)\n",
      "tensor(0.8545, grad_fn=<MseLossBackward0>)\n",
      "tensor(0.8797, grad_fn=<MseLossBackward0>)\n",
      "tensor(0.9094, grad_fn=<MseLossBackward0>)\n",
      "tensor(0.9396, grad_fn=<MseLossBackward0>)\n",
      "tensor(0.9659, grad_fn=<MseLossBackward0>)\n",
      "tensor(0.9850, grad_fn=<MseLossBackward0>)\n",
      "tensor(0.9945, grad_fn=<MseLossBackward0>)\n",
      "tensor(0.9943, grad_fn=<MseLossBackward0>)\n",
      "tensor(0.9857, grad_fn=<MseLossBackward0>)\n",
      "tensor(0.9717, grad_fn=<MseLossBackward0>)\n",
      "tensor(0.9559, grad_fn=<MseLossBackward0>)\n",
      "tensor(0.9420, grad_fn=<MseLossBackward0>)\n",
      "tensor(0.9329, grad_fn=<MseLossBackward0>)\n",
      "tensor(0.9300, grad_fn=<MseLossBackward0>)\n",
      "tensor(0.9331, grad_fn=<MseLossBackward0>)\n",
      "tensor(0.9408, grad_fn=<MseLossBackward0>)\n",
      "tensor(0.9502, grad_fn=<MseLossBackward0>)\n",
      "tensor(0.9584, grad_fn=<MseLossBackward0>)\n",
      "tensor(0.9627, grad_fn=<MseLossBackward0>)\n",
      "tensor(0.9612, grad_fn=<MseLossBackward0>)\n",
      "tensor(0.9537, grad_fn=<MseLossBackward0>)\n",
      "tensor(0.9411, grad_fn=<MseLossBackward0>)\n",
      "tensor(0.9259, grad_fn=<MseLossBackward0>)\n",
      "tensor(0.9110, grad_fn=<MseLossBackward0>)\n",
      "tensor(0.8998, grad_fn=<MseLossBackward0>)\n",
      "tensor(0.8947, grad_fn=<MseLossBackward0>)\n",
      "tensor(0.8973, grad_fn=<MseLossBackward0>)\n",
      "tensor(0.9077, grad_fn=<MseLossBackward0>)\n",
      "tensor(0.9245, grad_fn=<MseLossBackward0>)\n",
      "tensor(0.9451, grad_fn=<MseLossBackward0>)\n",
      "tensor(0.9663, grad_fn=<MseLossBackward0>)\n",
      "tensor(0.9847, grad_fn=<MseLossBackward0>)\n",
      "tensor(0.9976, grad_fn=<MseLossBackward0>)\n",
      "tensor(1.0033, grad_fn=<MseLossBackward0>)\n",
      "tensor(1.0013, grad_fn=<MseLossBackward0>)\n",
      "tensor(0.9923, grad_fn=<MseLossBackward0>)\n",
      "tensor(0.9783, grad_fn=<MseLossBackward0>)\n",
      "tensor(0.9615, grad_fn=<MseLossBackward0>)\n",
      "tensor(0.9446, grad_fn=<MseLossBackward0>)\n",
      "tensor(0.9297, grad_fn=<MseLossBackward0>)\n",
      "tensor(0.9182, grad_fn=<MseLossBackward0>)\n",
      "tensor(0.9106, grad_fn=<MseLossBackward0>)\n",
      "tensor(0.9067, grad_fn=<MseLossBackward0>)\n",
      "tensor(0.9055, grad_fn=<MseLossBackward0>)\n",
      "tensor(0.9057, grad_fn=<MseLossBackward0>)\n",
      "tensor(0.9060, grad_fn=<MseLossBackward0>)\n",
      "tensor(0.9053, grad_fn=<MseLossBackward0>)\n",
      "tensor(0.9031, grad_fn=<MseLossBackward0>)\n",
      "tensor(0.8994, grad_fn=<MseLossBackward0>)\n",
      "tensor(0.8946, grad_fn=<MseLossBackward0>)\n",
      "tensor(0.8895, grad_fn=<MseLossBackward0>)\n",
      "tensor(0.8847, grad_fn=<MseLossBackward0>)\n",
      "tensor(0.8811, grad_fn=<MseLossBackward0>)\n",
      "tensor(0.8790, grad_fn=<MseLossBackward0>)\n",
      "tensor(0.8787, grad_fn=<MseLossBackward0>)\n",
      "tensor(0.8802, grad_fn=<MseLossBackward0>)\n",
      "tensor(0.8834, grad_fn=<MseLossBackward0>)\n",
      "tensor(0.8883, grad_fn=<MseLossBackward0>)\n",
      "tensor(0.8949, grad_fn=<MseLossBackward0>)\n",
      "tensor(0.9034, grad_fn=<MseLossBackward0>)\n",
      "tensor(0.9139, grad_fn=<MseLossBackward0>)\n",
      "tensor(0.9266, grad_fn=<MseLossBackward0>)\n",
      "tensor(0.9410, grad_fn=<MseLossBackward0>)\n",
      "tensor(0.9565, grad_fn=<MseLossBackward0>)\n",
      "tensor(0.9719, grad_fn=<MseLossBackward0>)\n",
      "tensor(0.9854, grad_fn=<MseLossBackward0>)\n",
      "tensor(0.9951, grad_fn=<MseLossBackward0>)\n",
      "tensor(0.9992, grad_fn=<MseLossBackward0>)\n",
      "tensor(0.9965, grad_fn=<MseLossBackward0>)\n",
      "tensor(0.9864, grad_fn=<MseLossBackward0>)\n",
      "tensor(0.9697, grad_fn=<MseLossBackward0>)\n",
      "tensor(0.9480, grad_fn=<MseLossBackward0>)\n",
      "tensor(0.9240, grad_fn=<MseLossBackward0>)\n",
      "tensor(0.9012, grad_fn=<MseLossBackward0>)\n",
      "tensor(0.8829, grad_fn=<MseLossBackward0>)\n",
      "tensor(0.8718, grad_fn=<MseLossBackward0>)\n",
      "tensor(0.8698, grad_fn=<MseLossBackward0>)\n",
      "tensor(0.8771, grad_fn=<MseLossBackward0>)\n"
     ]
    }
   ],
   "source": [
    "model = torch.nn.Linear(100, 1)\n",
    "input = torch.randn(200, 100, requires_grad= True)\n",
    "target = torch.randn(200,1)\n",
    "number_epoch = 100\n",
    "optimizer = torch.optim.SGD(model.parameters(), lr=0.01)\n",
    "loss_fn = torch.nn.MSELoss()\n",
    "\n",
    "for epoch in range(number_epoch):\n",
    "    output = model(input)\n",
    "    loss = loss_fn(output, target)\n",
    "    loss.backward()\n",
    "    optimizer.step()\n",
    "    print(loss)"
   ]
  },
  {
   "cell_type": "code",
   "execution_count": null,
   "metadata": {},
   "outputs": [],
   "source": []
  }
 ],
 "metadata": {
  "kernelspec": {
   "display_name": "Python 3.8.13 ('base')",
   "language": "python",
   "name": "python3"
  },
  "language_info": {
   "codemirror_mode": {
    "name": "ipython",
    "version": 3
   },
   "file_extension": ".py",
   "mimetype": "text/x-python",
   "name": "python",
   "nbconvert_exporter": "python",
   "pygments_lexer": "ipython3",
   "version": "3.8.13"
  },
  "orig_nbformat": 4,
  "vscode": {
   "interpreter": {
    "hash": "d4d1e4263499bec80672ea0156c357c1ee493ec2b1c70f0acce89fc37c4a6abe"
   }
  }
 },
 "nbformat": 4,
 "nbformat_minor": 2
}
