{
 "cells": [
  {
   "cell_type": "code",
   "execution_count": 419,
   "metadata": {},
   "outputs": [],
   "source": [
    "import torch\n",
    "import numpy as np\n",
    "from matplotlib import pyplot as plt\n"
   ]
  },
  {
   "cell_type": "markdown",
   "metadata": {},
   "source": [
    "# Условия задачи\n",
    "$$\n",
    "s^2 \\sum_i^n\\left(\\frac{x_i}{s}-\\operatorname{sign}\\left(\\frac{x_i}{s}\\right)\\right)^2 \\rightarrow \\min _s\n",
    "$$\n"
   ]
  },
  {
   "cell_type": "markdown",
   "metadata": {},
   "source": [
    "$$\n",
    "f(x,s)  = s^2 \\sum_i^n\\left(\\frac{x_i}{s}-\\operatorname{sign}\\left(\\frac{x_i}{s}\\right)\\right)^2 = \\sum_i^n\\left(x_{i}-s * \\operatorname{sign}\\left(\\frac{x_i}{s}\\right)\\right)^2  = \\sum_i^n\\left(x_{i}^2-2 x_{i} s * \\operatorname{sign}\\left(\\frac{x_i}{s}\\right) + (s * \\operatorname{sign}\\left(\\frac{x_i}{s})\\right)^2\\right)\n",
    "$$\n"
   ]
  },
  {
   "cell_type": "markdown",
   "metadata": {},
   "source": [
    "в силу определения sign(х) и без рассмотрения точки 0\n",
    "$$ (\\operatorname{sign}\\left(\\frac{x_i}{s}\\right)  )^2= 1$$ \n"
   ]
  },
  {
   "cell_type": "markdown",
   "metadata": {},
   "source": [
    "пусть S>0, при S=0 у нас деление на 0 и функция не определена в этой точке\n",
    "для получения точного аналитического решения ищем точку экстремума\n",
    "$$\\frac{\\partial f}{\\partial s} = 0$$"
   ]
  },
  {
   "cell_type": "markdown",
   "metadata": {},
   "source": [
    "$$\\frac{\\partial f}{\\partial s} = \\sum_i^n\\left(-2 x_{i}  \\operatorname{sign}\\left({x_i}\\right) + 2s\\right) = \\sum_i^n\\left(-2|x_{i}| + 2s\\right)$$"
   ]
  },
  {
   "cell_type": "markdown",
   "metadata": {},
   "source": [
    " $$\\sum_i^n\\left(-2|x_{i}| + 2s\\right) = \\sum_i^n\\left(-2|x_{i}|\\right) +2sn = 0$$"
   ]
  },
  {
   "cell_type": "markdown",
   "metadata": {},
   "source": [
    "$$s = \\frac{\\sum_i^n\\left(|x_{i}|\\right)}{n} $$"
   ]
  },
  {
   "cell_type": "markdown",
   "metadata": {},
   "source": [
    "аналогично для случая S<0 получается \n",
    "$$s = -\\frac{\\sum_i^n\\left(|x_{i}|\\right)}{n} $$"
   ]
  },
  {
   "cell_type": "code",
   "execution_count": 420,
   "metadata": {},
   "outputs": [
    {
     "name": "stdout",
     "output_type": "stream",
     "text": [
      "Минимальное значение функции: 36.62463422765314\n",
      "Значения S, при котором достигается минимум: 0.8435083371089821 и -0.8435083371089821\n"
     ]
    }
   ],
   "source": [
    "mu, sigma, n, s = 0, 1, 100, 1 # параметры нормального распределения, количество сэмплированных точек и начальное приближение S, чтобы избежать деления на 0\n",
    "sample = np.random.normal(mu, sigma, n)\n",
    "s_min1 = np.sum(abs(sample))/n\n",
    "s_min2 = -np.sum(abs(sample))/n\n",
    "\n",
    "def f(x, s): # исходная функция\n",
    "    return np.sum((x- s * np.sign(x/s))**2)\n",
    "\n",
    "if f(sample,s_min1) == f(sample,s_min2):\n",
    "    print('Минимальное значение функции: ' + str(f(sample,s_min1) ))\n",
    "    print('Значения S, при котором достигается минимум: ' + str(s_min1) + ' и ' +  str(s_min2))\n",
    "else:\n",
    "    print('Минимальное значение функции: ' + str(np.min([f(sample,s_min1),f(sample,s_min2) ])))\n",
    "    print('Значение S, при котором достигается минимум: ' + str([s_min1,s_min2][np.argmin([f(sample,s_min1),f(sample,s_min2)] )]))\n"
   ]
  },
  {
   "cell_type": "markdown",
   "metadata": {},
   "source": [
    "# основная идея градиентного спуска\n",
    "\n",
    "$$s_{i+1} = s_{i} - \\frac{\\partial f}{\\partial s}(s_{i}) * LearningRate$$"
   ]
  },
  {
   "cell_type": "markdown",
   "metadata": {},
   "source": [
    "$$f(x,s) = \\sum_i^n\\left(x_{i}^2-2 x_{i} s * \\operatorname{sign}\\left(\\frac{x_i}{s}\\right) + (s * \\operatorname{sign}\\left(\\frac{x_i}{s})\\right)^2\\right)$$\n"
   ]
  },
  {
   "cell_type": "markdown",
   "metadata": {},
   "source": [
    "# В условиях просили переопределить нахождение прозводной $sign(\\frac{x_i} {s})$\n",
    "## Линейный случай\n",
    "$$\n",
    "  \\frac{\\partial [  sign \\left(\\frac{x_i} {s} \\right)] }{\\partial s} = \\frac{\\partial [\\frac{x_i} {s}]}{\\partial s} = \\frac{-x_i} {s^2}\n",
    "$$"
   ]
  },
  {
   "cell_type": "markdown",
   "metadata": {},
   "source": [
    "## Случай гиперболического тангенса\n",
    "$$\n",
    "  \\frac{\\partial [  sign \\left(\\frac{x_i} {s} \\right)]}{\\partial s} = \\frac{\\partial tanh[\\frac{x_i} {s}]}{\\partial s} =( 1 - tanh^{2}[\\frac{x_i} {s}])* (\\frac{-x_i} {s^2}) = \\frac{\\frac{-x_i} {s^2}}{cosh^2(x)}\n",
    "$$"
   ]
  },
  {
   "cell_type": "markdown",
   "metadata": {},
   "source": [
    "$$\\frac{\\partial f}{\\partial s} = \\sum_i^n\\left(-2 x_{i}  \\operatorname{sign}\\left({\\frac{x_i}{s}}\\right) + 2x_{i}s\\frac{-x_{i}}{s^2}+2s\\right) $$"
   ]
  },
  {
   "cell_type": "markdown",
   "metadata": {},
   "source": [
    "так же учтено и не вычислялась производная\n",
    "$$ (\\operatorname{sign}\\left(\\frac{x_i}{s}\\right)  )^2= 1 $$ \n"
   ]
  },
  {
   "cell_type": "code",
   "execution_count": 421,
   "metadata": {},
   "outputs": [],
   "source": [
    "class SignLinearFunction(torch.autograd.Function):\n",
    "    @staticmethod\n",
    "    def forward(ctx, input, weight):\n",
    "        ctx.save_for_backward(input, weight)\n",
    "        output = torch.sign(input/weight)\n",
    "        return output\n",
    "\n",
    "    @staticmethod\n",
    "    def backward(ctx, grad_output):\n",
    "        input, weight = ctx.saved_tensors\n",
    "        grad_input = 1/weight\n",
    "        grad_weight = -input/(weight**2)\n",
    "        return  grad_weight  , grad_input\n",
    "\n",
    "linearSign = SignLinearFunction.apply\n"
   ]
  },
  {
   "cell_type": "code",
   "execution_count": 422,
   "metadata": {},
   "outputs": [
    {
     "name": "stdout",
     "output_type": "stream",
     "text": [
      "Минимальное значение функции 36.624661817648025\n",
      "Минимальное значение функции достигается при s=0.843858540058136\n"
     ]
    },
    {
     "data": {
      "image/png": "[encoded data removed]",
      "text/plain": [
       "<Figure size 432x288 with 1 Axes>"
      ]
     },
     "metadata": {
      "needs_background": "light"
     },
     "output_type": "display_data"
    }
   ],
   "source": [
    "learning_rate = 1e-6\n",
    "n_epoch = 1000\n",
    "loss_history, s_history = [], []\n",
    "loss_min,s_best = None, None\n",
    "x = torch.from_numpy(sample)\n",
    "s = torch.tensor([1.], requires_grad= True)\n",
    "\n",
    "for epoch in range(n_epoch):\n",
    "    loss = ((x- s * linearSign(x, s)).pow(2)).sum()\n",
    "    loss.backward()\n",
    "    s.data -= learning_rate * s.grad.data\n",
    "    loss_history.append(loss.data)\n",
    "    s_history.append(s)\n",
    "\n",
    "    if loss_min == None or loss<loss_min:\n",
    "        loss_min = loss\n",
    "        s_best = s\n",
    "\n",
    "plt.scatter(range(n_epoch),loss_history)\n",
    "plt.title('Значения функции в зависимости от эпохи')\n",
    "print('Минимальное значение функции '+str(loss_min.item()))\n",
    "print('Минимальное значение функции достигается при s='+str(s_best.item()))\n"
   ]
  },
  {
   "cell_type": "code",
   "execution_count": 423,
   "metadata": {},
   "outputs": [],
   "source": [
    "class SignTanhFunction(torch.autograd.Function):\n",
    "    @staticmethod\n",
    "    def forward(ctx, input, weight):\n",
    "        ctx.save_for_backward(input, weight)\n",
    "        output = torch.sign(input/weight)\n",
    "        return output\n",
    "\n",
    "    @staticmethod\n",
    "    def backward(ctx, grad_output):\n",
    "\n",
    "        input, weight = ctx.saved_tensors\n",
    "        grad_input = 1./weight\n",
    "        grad_weight = -input/((weight**2)*torch.cosh(input/weight))\n",
    "\n",
    "        return  grad_weight  , grad_input\n",
    "\n",
    "TanhSign = SignTanhFunction.apply\n"
   ]
  },
  {
   "cell_type": "code",
   "execution_count": 424,
   "metadata": {},
   "outputs": [
    {
     "name": "stdout",
     "output_type": "stream",
     "text": [
      "Минимальное значение функции 36.624661817648025\n",
      "Минимальное значение функции достигается при s=0.843858540058136\n"
     ]
    },
    {
     "data": {
      "image/png": "[encoded data removed]",
      "text/plain": [
       "<Figure size 432x288 with 1 Axes>"
      ]
     },
     "metadata": {
      "needs_background": "light"
     },
     "output_type": "display_data"
    }
   ],
   "source": [
    "learning_rate = 1e-6\n",
    "n_epoch = 1000\n",
    "loss_history, s_history = [], []\n",
    "loss_min,s_best = None, None\n",
    "x = torch.from_numpy(sample)\n",
    "s = torch.tensor([1.], requires_grad= True)\n",
    "\n",
    "for epoch in range(n_epoch):\n",
    "    loss = ((x- s * TanhSign(x, s)).pow(2)).sum()\n",
    "    loss.backward()\n",
    "    s.data -= learning_rate * s.grad.data\n",
    "    loss_history.append(loss.data)\n",
    "    s_history.append(s)\n",
    "\n",
    "    if loss_min == None or loss<loss_min:\n",
    "        loss_min = loss\n",
    "        s_best = s\n",
    "\n",
    "plt.scatter(range(n_epoch),loss_history)\n",
    "plt.title('Значения функции в зависимости от эпохи')\n",
    "print('Минимальное значение функции '+str(loss_min.item()))\n",
    "print('Минимальное значение функции достигается при s='+str(s_best.item()))"
   ]
  },
  {
   "cell_type": "markdown",
   "metadata": {},
   "source": [
    "# Ответы для случая градиентного спуска совпадают и достаточно близки по значению к точному аналитическому решению\n",
    "## очевидно, что переопределив вычисление производной мы сами сдвинули экстремум, поэтому идеального попадания в аналитическое решение не добиться"
   ]
  },
  {
   "cell_type": "code",
   "execution_count": 425,
   "metadata": {},
   "outputs": [
    {
     "data": {
      "text/plain": [
       "tensor(2.1480, dtype=torch.float64, grad_fn=<MeanBackward0>)"
      ]
     },
     "execution_count": 425,
     "metadata": {},
     "output_type": "execute_result"
    }
   ],
   "source": [
    "torch.cosh(x/s_best).mean()"
   ]
  },
  {
   "cell_type": "markdown",
   "metadata": {},
   "source": [
    "# величина порядка 2, т.е. вносит изменения на на масштабе 1000 эпох этого почти не заметно"
   ]
  },
  {
   "cell_type": "markdown",
   "metadata": {},
   "source": [
    "# Так же знак найденного S зависит от начальных условий для случаев градиентного спуска"
   ]
  },
  {
   "cell_type": "markdown",
   "metadata": {},
   "source": []
  },
  {
   "cell_type": "markdown",
   "metadata": {},
   "source": []
  }
 ],
 "metadata": {
  "kernelspec": {
   "display_name": "Python 3.8.13 ('base')",
   "language": "python",
   "name": "python3"
  },
  "language_info": {
   "codemirror_mode": {
    "name": "ipython",
    "version": 3
   },
   "file_extension": ".py",
   "mimetype": "text/x-python",
   "name": "python",
   "nbconvert_exporter": "python",
   "pygments_lexer": "ipython3",
   "version": "3.8.13"
  },
  "orig_nbformat": 4,
  "vscode": {
   "interpreter": {
    "hash": "d4d1e4263499bec80672ea0156c357c1ee493ec2b1c70f0acce89fc37c4a6abe"
   }
  }
 },
 "nbformat": 4,
 "nbformat_minor": 2
}
