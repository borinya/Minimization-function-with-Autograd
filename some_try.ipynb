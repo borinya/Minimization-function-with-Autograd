{
 "cells": [
  {
   "cell_type": "markdown",
   "metadata": {},
   "source": [
    "В нейронных сетях предпочтительно используется модель $y=f(u)$, где $u=\\sum_{i=1}^n w_i x_i+w_0 x_0$ детерминистического искусственного нейрона, так же существует модель стохастического нейрона. \n",
    "\n",
    "$$\n",
    "f(u)= \\begin{cases}1 & \\text {, с вероятностью } P(u) \\\\ 0 & \\text {, с вероятностью } 1-P(u)\\end{cases}\n",
    "$$\n",
    "\n",
    "Где распределение вероятности $P(u)$ обычно имеет вид сигмоида:\n",
    "\n",
    "$$\n",
    "\\sigma(u)=\\frac{A(T)}{1+\\exp (-u / T)},\n",
    "$$\n",
    "\n",
    "Главный недостаток этого метода в том, что в роли передаточной функции используется пороговая функция. Её производная равна 0, что не дает использовать стохастические нейроны в классическом варианте обучения с применением градиентного спуска и методом обратного распространения ошибки. Авторы исследования предложили 2 подхода по оценке градиентов для стохастических нейронов: простая \"биологическая\" модель нейрона с несмещенной  и зашумленной оценкой градиента, которую можно применять для обучения с подкреплением, а так же второй подход, заключающийся в прогнозировании с использованием смещения. (работает только с нелинейностями)"
   ]
  },
  {
   "cell_type": "markdown",
   "metadata": {},
   "source": [
    "Рассмотрим выход  $h_i$ стохастического нейрона, как применение детерменированной функции, которая зависит от входных данных $x_i$, внутренних параметров $\\theta_i$, как веса и смещение, а так же вводится источник шума $z_i$ \n",
    "$$\n",
    "h_i=f\\left(x_i, z_i, \\theta_i\\right)\n",
    "$$\n",
    "\n",
    "Пример подобной функции\n",
    "$$\n",
    "h_i=\\max \\left(0, z_i+b_i+\\sum_j W_{i j} x_{i j}\\right)\n",
    "$$"
   ]
  },
  {
   "cell_type": "markdown",
   "metadata": {},
   "source": [
    "В данной интерпретации нейрона обучение ведется до тех пор, пока существуют ненулевые градиенты относительно $x_i$ и $\\theta_i$ . Если накладывать дополнительное условие на бинарность выхода $h_i$, то окажется, что почти везде градиенты будут равны 0, поэтому дальнейшее обучение невозможно.\n",
    "\n",
    "Авторы исследования определяют 2 состояния нейрона : активный и неактивный \n",
    "\n",
    "\n",
    "\n",
    "- Активный нейрон\n",
    "$\n",
    "f\\left(x_i, 0, \\theta_i\\right)>0\n",
    "$\n",
    "Блок ненулевой и градиенты больше 0, но иногда отключается. В этом состоянии градиенты передаются для обучения, при этом возможен переход в неактивное состояние, если об этом сигнализирует основная часть модели.\n",
    "\n",
    "- Неактивный нейрон\n",
    "$\n",
    "f\\left(x_i, 0, \\theta_i\\right)=0\n",
    "$\n",
    "В подавляющем числе случае он равен 0, и занулены градиенты для дальнейшего обучения. Так же возможны ситуации, когда $z_i$ достаточно большое, чтобы перевести нейрон в активное состояние."
   ]
  },
  {
   "cell_type": "markdown",
   "metadata": {},
   "source": [
    "Таким образом при \"биологической\" модели нейрона у нас почти всегда есть ненулевые градиенты, которые позволят обучать всю сеть. С этим подходом связаны 2 основных недостатка: разная вероятность перехода состояний \"активный\" $\\rightarrow$ \"неактивный\" и \"неактивный\" $\\rightarrow$ \"активный\", а так же ситуация, когда часть нейронов будут неактивными и не будут использованы в дальнейшей работе модели."
   ]
  },
  {
   "cell_type": "markdown",
   "metadata": {},
   "source": [
    "# 2 подход"
   ]
  },
  {
   "cell_type": "markdown",
   "metadata": {},
   "source": [
    "Рассмотрим случай с пороговым решением, но чтобы с некоторой вероятностью оно было дифферинцируемо. Вероятность является непрерывной функцией, так же предпологаем паралленость для разных батчей в процессе обучения через градиентный спуск. "
   ]
  },
  {
   "cell_type": "markdown",
   "metadata": {},
   "source": [
    "Рассмотрим пример, где $x_i$ влияет на функцию потерь L\n",
    "$h_i=f\\left(x_i, z_i, \\theta_i\\right)=\\mathbf{1}_{z_i>\\sigma\\left(a_i\\right)}$\n",
    "\n",
    "$\\sigma(x)$ - сигмоид,   $z_i $ ~ $U[0,1]$"
   ]
  },
  {
   "cell_type": "markdown",
   "metadata": {},
   "source": [
    "И для случая детерминистического искусственного нейрона мы получаем  \n",
    "$$\n",
    "a_i=b_i+W_i \\cdot x_i\n",
    "$$\n",
    "\n",
    "$b_i$ и $W_{i}$ являются $ \\theta_{i} = (b_{i}, W_{i}) $ параметрами"
   ]
  },
  {
   "cell_type": "markdown",
   "metadata": {},
   "source": [
    "# Теорема.\n",
    "\n",
    "Пусть $$h_i=f\\left(x_i, z_i, \\theta_i\\right)=\\mathbf{1}_{z_i>\\sigma\\left(a_i\\right)}$$ тогда  определим $$\\hat{g}_i=\\left(h_i-\\sigma\\left(a_i\\right)\\right) $$ как несмещенную оценку $$g_i=\\frac{\\partial E_{x_i, c_{-i}}\\left[L \\mid c_i\\right]}{\\partial a_i}$$ , где матожидание шума $z_i$ и всех источников шума $с_{-i}$ не влияет на веса $a_i$, но влияет на функцию потерь L\n",
    "\n",
    "$\n",
    "E_{v_z}[\\cdot] \\text { означает матожидание величины } v_z\n",
    "$\n",
    "\n",
    "\n",
    "\n",
    "<!-- Let $h_i$ be defined as in Eq. 2, then $\\hat{g}_i=\\left(h_i-\\sigma\\left(a_i\\right)\\right) L$ is an unbiased estimator of $g_i=\\frac{\\partial E_{x_i, c_{-i}}\\left[L \\mid c_i\\right]}{\\partial a_i}$ where the expectation is over $z_i$ and over all the noise sources $c_{-i}$, besides $z_i$, that do not influence $a_i$ but may influence $L$, i.e., conditioned on the set of noise sources $c_i$ that influence $a_{i-}$ -->\n"
   ]
  },
  {
   "cell_type": "markdown",
   "metadata": {},
   "source": [
    "# Следствие.\n",
    "При тех же условиях, что и в предыдущей теореме, а так же для любой(возможно неспецифичной) константы $\\bar{L}_i$ вводится центральная оценка\n",
    "$\n",
    "\\left(h_i-\\sigma\\left(a_i\\right)\\right)\\left(L-\\bar{L}_i\\right),\n",
    "$\n",
    "несмещенная оценка $g_i=\\frac{\\partial E_{x_i, c_{-i}}\\left[\\left.L\\right|_{\\left.c_i\\right]}\\right.}{\\partial a_i}$. Более того, среди всех возможных значений $\\bar{L}_i$, минимальная дисперсия равна\n",
    "$$\n",
    "\\bar{L}_i=\\frac{E\\left[\\left(h_i-\\sigma\\left(a_i\\right)\\right)^2 L\\right]}{E\\left[\\left(h_i-\\sigma\\left(a_i\\right)\\right)^2\\right]},\n",
    "$$\n",
    "который является средневзвешенным значеием потерь L, веса которого специфичны для каждого экземпляра i."
   ]
  },
  {
   "cell_type": "markdown",
   "metadata": {},
   "source": [
    "# Таким образом исследователями предложено 2 способа по оценке градиентов стохастических нейронов для дальнейшего обучения модели"
   ]
  },
  {
   "cell_type": "code",
   "execution_count": 1,
   "metadata": {},
   "outputs": [],
   "source": [
    "import torch\n",
    "import numpy as np\n",
    "from matplotlib import pyplot as plt\n"
   ]
  },
  {
   "cell_type": "markdown",
   "metadata": {},
   "source": [
    "# Условия задачи\n",
    "$$\n",
    "s^2 \\sum_i^n\\left(\\frac{x_i}{s}-\\operatorname{sign}\\left(\\frac{x_i}{s}\\right)\\right)^2 \\rightarrow \\min _s\n",
    "$$\n"
   ]
  },
  {
   "cell_type": "markdown",
   "metadata": {},
   "source": [
    "$$\n",
    "f(x,s)  = s^2 \\sum_i^n\\left(\\frac{x_i}{s}-\\operatorname{sign}\\left(\\frac{x_i}{s}\\right)\\right)^2 = \\sum_i^n\\left(x_{i}-s * \\operatorname{sign}\\left(\\frac{x_i}{s}\\right)\\right)^2  = \\sum_i^n\\left(x_{i}^2-2 x_{i} s * \\operatorname{sign}\\left(\\frac{x_i}{s}\\right) + (s * \\operatorname{sign}\\left(\\frac{x_i}{s})\\right)^2\\right) = \\sum_i^n\\left(x_{i}-s * \\operatorname{sign}\\left(\\frac{x_i}{s}\\right)\\right)^2  =$$\n",
    "\n",
    "$$= \\sum_i^n\\left(x_{i}^2-2 x_{i} s * \\operatorname{sign}\\left(\\frac{x_i}{s}\\right) + s^2\\right)\n",
    "$$\n"
   ]
  },
  {
   "cell_type": "markdown",
   "metadata": {},
   "source": [
    "В силу определения sign(х) и без рассмотрения точки s = 0\n",
    "$$ (\\operatorname{sign}\\left(\\frac{x_i}{s}\\right)  )^2= 1$$ \n"
   ]
  },
  {
   "cell_type": "markdown",
   "metadata": {},
   "source": [
    "Пусть S>0, при S=0 у нас деление на 0 и функция не определена в этой точке.\n",
    "Для получения точного аналитического решения ищем точку экстремума.\n",
    "$$\\frac{\\partial f}{\\partial s} = 0$$"
   ]
  },
  {
   "cell_type": "markdown",
   "metadata": {},
   "source": [
    "$$\\frac{\\partial f}{\\partial s} = \\sum_i^n\\left(-2 x_{i}  \\operatorname{sign}\\left({x_i}\\right) + 2s\\right) = \\sum_i^n\\left(-2|x_{i}| + 2s\\right)$$"
   ]
  },
  {
   "cell_type": "markdown",
   "metadata": {},
   "source": [
    " $$\\sum_i^n\\left(-2|x_{i}| + 2s\\right) = \\sum_i^n\\left(-2|x_{i}|\\right) +2sn = 0$$"
   ]
  },
  {
   "cell_type": "markdown",
   "metadata": {},
   "source": [
    "$$s = \\frac{\\sum_i^n\\left(|x_{i}|\\right)}{n} $$"
   ]
  },
  {
   "cell_type": "markdown",
   "metadata": {},
   "source": [
    "Аналогично для случая S<0 получается.\n",
    "$$s = -\\frac{\\sum_i^n\\left(|x_{i}|\\right)}{n} $$"
   ]
  },
  {
   "cell_type": "code",
   "execution_count": 8,
   "metadata": {},
   "outputs": [
    {
     "name": "stdout",
     "output_type": "stream",
     "text": [
      "Минимальное значение функции: 30.6680144124222\n",
      "Значения S, при котором достигается минимум: 0.7828236969785172 и -0.7828236969785172\n"
     ]
    }
   ],
   "source": [
    "mu, sigma, n, s = 0, 1, 100, 1 # параметры нормального распределения, количество сэмплированных точек и начальное приближение S, чтобы избежать деления на 0\n",
    "sample = np.random.normal(mu, sigma, n)\n",
    "s_min1 = np.sum(abs(sample))/n\n",
    "s_min2 = -np.sum(abs(sample))/n\n",
    "\n",
    "def f(x, s): # исходная функция\n",
    "    return np.sum((x- s * np.sign(x/s))**2)\n",
    "\n",
    "if f(sample,s_min1) == f(sample,s_min2):\n",
    "    print('Минимальное значение функции: ' + str(f(sample,s_min1) ))\n",
    "    print('Значения S, при котором достигается минимум: ' + str(s_min1) + ' и ' +  str(s_min2))\n",
    "else:\n",
    "    print('Минимальное значение функции: ' + str(np.min([f(sample,s_min1),f(sample,s_min2) ])))\n",
    "    print('Значение S, при котором достигается минимум: ' + str([s_min1,s_min2][np.argmin([f(sample,s_min1),f(sample,s_min2)] )]))\n"
   ]
  },
  {
   "cell_type": "markdown",
   "metadata": {},
   "source": [
    "# основная идея градиентного спуска\n",
    "\n",
    "$$s_{i+1} = s_{i} - \\frac{\\partial f}{\\partial s}(s_{i}) * LearningRate$$"
   ]
  },
  {
   "cell_type": "markdown",
   "metadata": {},
   "source": [
    "$$f(x,s) = \\sum_i^n\\left(x_{i}^2-2 x_{i} s * \\operatorname{sign}\\left(\\frac{x_i}{s}\\right) + (s * \\operatorname{sign}\\left(\\frac{x_i}{s})\\right)^2\\right)$$\n"
   ]
  },
  {
   "cell_type": "markdown",
   "metadata": {},
   "source": [
    "так же учтено и не вычислялась производная\n",
    "$$ (\\operatorname{sign}\\left(\\frac{x_i}{s}\\right)  )^2= 1 $$ \n"
   ]
  },
  {
   "cell_type": "markdown",
   "metadata": {},
   "source": [
    "# В условиях просили переопределить нахождение прозводной $sign(\\frac{x_i} {s})$\n",
    "## Линейный случай\n",
    "$$\n",
    "  \\frac{\\partial [  sign \\left(\\frac{x_i} {s} \\right)] }{\\partial s} = \\frac{\\partial [\\frac{x_i} {s}]}{\\partial s} = \\frac{-x_i} {s^2}\n",
    "$$"
   ]
  },
  {
   "cell_type": "code",
   "execution_count": 9,
   "metadata": {},
   "outputs": [],
   "source": [
    "class SignLinearFunction(torch.autograd.Function):\n",
    "    @staticmethod\n",
    "    def forward(ctx, input, weight):\n",
    "        ctx.save_for_backward(input, weight)\n",
    "        output = torch.sign(input/weight)\n",
    "        return output\n",
    "\n",
    "    @staticmethod\n",
    "    def backward(ctx, grad_output):\n",
    "        input, weight = ctx.saved_tensors\n",
    "        grad_input = 1/weight\n",
    "        grad_weight = -input/(weight**2)\n",
    "        return  grad_weight  , grad_input\n",
    "\n",
    "linearSign = SignLinearFunction.apply\n"
   ]
  },
  {
   "cell_type": "code",
   "execution_count": 10,
   "metadata": {},
   "outputs": [
    {
     "name": "stdout",
     "output_type": "stream",
     "text": [
      "Минимальное значение функции 30.66802434405325\n",
      "Минимальное значение функции достигается при s=0.7873274683952332\n"
     ]
    },
    {
     "data": {
      "image/png": "[encoded data removed]",
      "text/plain": [
       "<Figure size 432x288 with 1 Axes>"
      ]
     },
     "metadata": {
      "needs_background": "light"
     },
     "output_type": "display_data"
    }
   ],
   "source": [
    "learning_rate = 1e-6\n",
    "n_epoch = 1000\n",
    "loss_history, s_history = [], []\n",
    "loss_min,s_best = None, None\n",
    "x = torch.from_numpy(sample)\n",
    "s = torch.tensor([1.], requires_grad= True)\n",
    "\n",
    "for epoch in range(n_epoch):\n",
    "    loss = ((x- s * linearSign(x, s)).pow(2)).sum()\n",
    "    loss.backward()\n",
    "    s.data -= learning_rate * s.grad.data\n",
    "    loss_history.append(loss.data)\n",
    "    s_history.append(s)\n",
    "\n",
    "    if loss_min == None or loss<loss_min:\n",
    "        loss_min = loss\n",
    "        s_best = s\n",
    "\n",
    "plt.scatter(range(n_epoch),loss_history)\n",
    "plt.title('Значения функции в зависимости от эпохи')\n",
    "print('Минимальное значение функции '+str(loss_min.item()))\n",
    "print('Минимальное значение функции достигается при s='+str(s_best.item()))\n"
   ]
  },
  {
   "cell_type": "markdown",
   "metadata": {},
   "source": [
    "## Случай гиперболического тангенса\n",
    "$$\n",
    "  \\frac{\\partial [  sign \\left(\\frac{x_i} {s} \\right)]}{\\partial s} = \\frac{\\partial tanh[\\frac{x_i} {s}]}{\\partial s} =( 1 - tanh^{2}[\\frac{x_i} {s}])* (\\frac{-x_i} {s^2}) = \\frac{\\frac{-x_i} {s^2}}{cosh^2(x)}\n",
    "$$"
   ]
  },
  {
   "cell_type": "code",
   "execution_count": 11,
   "metadata": {},
   "outputs": [],
   "source": [
    "class SignTanhFunction(torch.autograd.Function):\n",
    "    @staticmethod\n",
    "    def forward(ctx, input, weight):\n",
    "        ctx.save_for_backward(input, weight)\n",
    "        output = torch.sign(input/weight)\n",
    "        return output\n",
    "\n",
    "    @staticmethod\n",
    "    def backward(ctx, grad_output):\n",
    "\n",
    "        input, weight = ctx.saved_tensors\n",
    "        grad_input = 1./weight\n",
    "        grad_weight = -input/((weight**2)*torch.cosh(input/weight))\n",
    "\n",
    "        return  grad_weight  , grad_input\n",
    "\n",
    "TanhSign = SignTanhFunction.apply\n"
   ]
  },
  {
   "cell_type": "code",
   "execution_count": 12,
   "metadata": {},
   "outputs": [
    {
     "name": "stdout",
     "output_type": "stream",
     "text": [
      "Минимальное значение функции 30.66802434405325\n",
      "Минимальное значение функции достигается при s=0.7873274683952332\n"
     ]
    },
    {
     "data": {
      "image/png": "[encoded data removed]",
      "text/plain": [
       "<Figure size 432x288 with 1 Axes>"
      ]
     },
     "metadata": {
      "needs_background": "light"
     },
     "output_type": "display_data"
    }
   ],
   "source": [
    "learning_rate = 1e-6\n",
    "n_epoch = 1000\n",
    "loss_history, s_history = [], []\n",
    "loss_min,s_best = None, None\n",
    "x = torch.from_numpy(sample)\n",
    "s = torch.tensor([1.], requires_grad= True)\n",
    "\n",
    "for epoch in range(n_epoch):\n",
    "    loss = ((x- s * TanhSign(x, s)).pow(2)).sum()\n",
    "    loss.backward()\n",
    "    s.data -= learning_rate * s.grad.data\n",
    "    loss_history.append(loss.data)\n",
    "    s_history.append(s)\n",
    "\n",
    "    if loss_min == None or loss<loss_min:\n",
    "        loss_min = loss\n",
    "        s_best = s\n",
    "\n",
    "plt.scatter(range(n_epoch),loss_history)\n",
    "plt.title('Значения функции в зависимости от эпохи')\n",
    "print('Минимальное значение функции '+str(loss_min.item()))\n",
    "print('Минимальное значение функции достигается при s='+str(s_best.item()))"
   ]
  },
  {
   "cell_type": "markdown",
   "metadata": {},
   "source": [
    "# Ответы для случая градиентного спуска совпадают и достаточно близки по значению к точному аналитическому решению\n",
    "## Очевидно, что переопределив вычисление производной мы сами сдвинули экстремум, поэтому идеального попадания в аналитическое решение не добиться"
   ]
  },
  {
   "cell_type": "code",
   "execution_count": 13,
   "metadata": {},
   "outputs": [
    {
     "data": {
      "text/plain": [
       "tensor(2.0355, dtype=torch.float64, grad_fn=<MeanBackward0>)"
      ]
     },
     "execution_count": 13,
     "metadata": {},
     "output_type": "execute_result"
    }
   ],
   "source": [
    "torch.cosh(x/s_best).mean()"
   ]
  },
  {
   "cell_type": "markdown",
   "metadata": {},
   "source": [
    "# величина порядка 2, т.е. вносит изменения на на масштабе 1000 эпох этого почти не заметно"
   ]
  },
  {
   "cell_type": "markdown",
   "metadata": {},
   "source": [
    "# Так же знак найденного S зависит от начального значения S для случаев градиентного спуска"
   ]
  },
  {
   "cell_type": "code",
   "execution_count": null,
   "metadata": {},
   "outputs": [],
   "source": []
  }
 ],
 "metadata": {
  "kernelspec": {
   "display_name": "Python 3.8.13 ('base')",
   "language": "python",
   "name": "python3"
  },
  "language_info": {
   "codemirror_mode": {
    "name": "ipython",
    "version": 3
   },
   "file_extension": ".py",
   "mimetype": "text/x-python",
   "name": "python",
   "nbconvert_exporter": "python",
   "pygments_lexer": "ipython3",
   "version": "3.8.13"
  },
  "orig_nbformat": 4,
  "vscode": {
   "interpreter": {
    "hash": "d4d1e4263499bec80672ea0156c357c1ee493ec2b1c70f0acce89fc37c4a6abe"
   }
  }
 },
 "nbformat": 4,
 "nbformat_minor": 2
}
